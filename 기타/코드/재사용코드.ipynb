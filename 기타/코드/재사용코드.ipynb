{
 "cells": [
  {
   "cell_type": "code",
   "execution_count": null,
   "metadata": {},
   "outputs": [],
   "source": [
    "def 이상치처리(df, col, value):\n",
    "    Q1 = df[col].quantile(0.25)\n",
    "    Q3 = df[col].quantile(0.75)\n",
    "    IQR = Q3 - Q1\n",
    "    rev_range = 3\n",
    "    if value < (Q1 - rev_range * IQR):\n",
    "        value = Q1 - rev_range * IQR\n",
    "    if value > (Q3 + rev_range * IQR):\n",
    "        value = Q3 + rev_range * IQR\n",
    "    return value"
   ]
  },
  {
   "cell_type": "code",
   "execution_count": 1,
   "metadata": {},
   "outputs": [
    {
     "name": "stdout",
     "output_type": "stream",
     "text": [
      "* [과학기술](https://github.com/Song-Juntae/references/tree/main/나의_과학기술/과학기술)\n",
      "\t* [프로그래밍](https://github.com/Song-Juntae/references/tree/main/나의_과학기술/과학기술/프로그래밍)\n",
      "\t* [컴퓨터공학](https://github.com/Song-Juntae/references/tree/main/나의_과학기술/과학기술/컴퓨터공학)\n",
      "\t* [데이터분석](https://github.com/Song-Juntae/references/tree/main/나의_과학기술/과학기술/데이터분석)\n",
      "\t* [생명과학](https://github.com/Song-Juntae/references/tree/main/나의_과학기술/과학기술/생명과학)\n",
      "\t* [물리화학](https://github.com/Song-Juntae/references/tree/main/나의_과학기술/과학기술/물리화학)\n",
      "\t* [수학_통계](https://github.com/Song-Juntae/references/tree/main/나의_과학기술/과학기술/수학_통계)\n",
      "\t* [알고리즘](https://github.com/Song-Juntae/references/tree/main/나의_과학기술/과학기술/알고리즘)\n",
      "* [인문사회과학](https://github.com/Song-Juntae/references/tree/main/나의_과학기술/인문사회과학)\n",
      "\t* [언어학](https://github.com/Song-Juntae/references/tree/main/나의_과학기술/인문사회과학/언어학)\n",
      "\t* [정보학](https://github.com/Song-Juntae/references/tree/main/나의_과학기술/인문사회과학/정보학)\n",
      "\t* [법학](https://github.com/Song-Juntae/references/tree/main/나의_과학기술/인문사회과학/법학)\n",
      "\t* [경영학](https://github.com/Song-Juntae/references/tree/main/나의_과학기술/인문사회과학/경영학)\n",
      "\t* [문학](https://github.com/Song-Juntae/references/tree/main/나의_과학기술/인문사회과학/문학)\n",
      "\t* [경제학](https://github.com/Song-Juntae/references/tree/main/나의_과학기술/인문사회과학/경제학)\n",
      "\t* [철학](https://github.com/Song-Juntae/references/tree/main/나의_과학기술/인문사회과학/철학)\n",
      "\t* [영어와문학](https://github.com/Song-Juntae/references/tree/main/나의_과학기술/인문사회과학/영어와문학)\n",
      "\t* [정치외교학](https://github.com/Song-Juntae/references/tree/main/나의_과학기술/인문사회과학/정치외교학)\n",
      "\t* [인지과학](https://github.com/Song-Juntae/references/tree/main/나의_과학기술/인문사회과학/인지과학)\n",
      "\t* [콘텐츠](https://github.com/Song-Juntae/references/tree/main/나의_과학기술/인문사회과학/콘텐츠)\n",
      "\n"
     ]
    }
   ],
   "source": [
    "import os\n",
    "\n",
    "리드미 = ''\n",
    "\n",
    "리드미 = '* [과학기술](https://github.com/Song-Juntae/references/tree/main/나의_과학기술/과학기술)\\n'\n",
    "\n",
    "for i in os.listdir('/home/sjt/space/github/references/나의_과학기술/과학기술'):\n",
    "    리드미 += f'\\t* [{i}](https://github.com/Song-Juntae/references/tree/main/나의_과학기술/과학기술/{i})\\n'\n",
    "\n",
    "리드미 += '* [인문사회과학](https://github.com/Song-Juntae/references/tree/main/나의_과학기술/인문사회과학)\\n'\n",
    "\n",
    "for i in os.listdir('/home/sjt/space/github/references/나의_과학기술/인문사회과학'):\n",
    "    리드미 += f'\\t* [{i}](https://github.com/Song-Juntae/references/tree/main/나의_과학기술/인문사회과학/{i})\\n'\n",
    "\n",
    "print(리드미)\n"
   ]
  },
  {
   "cell_type": "code",
   "execution_count": null,
   "metadata": {},
   "outputs": [],
   "source": []
  }
 ],
 "metadata": {
  "kernelspec": {
   "display_name": "data",
   "language": "python",
   "name": "python3"
  },
  "language_info": {
   "codemirror_mode": {
    "name": "ipython",
    "version": 3
   },
   "file_extension": ".py",
   "mimetype": "text/x-python",
   "name": "python",
   "nbconvert_exporter": "python",
   "pygments_lexer": "ipython3",
   "version": "3.12.4"
  }
 },
 "nbformat": 4,
 "nbformat_minor": 2
}
