{
 "cells": [
  {
   "cell_type": "code",
   "execution_count": 6,
   "metadata": {},
   "outputs": [],
   "source": [
    "import os\n",
    "import subprocess"
   ]
  },
  {
   "cell_type": "code",
   "execution_count": 25,
   "metadata": {},
   "outputs": [
    {
     "data": {
      "text/plain": [
       "['song-juntae.github.io',\n",
       " 'game',\n",
       " 'tutorials',\n",
       " 'data_analysis',\n",
       " 'Song-Juntae',\n",
       " 'bioinformatics',\n",
       " 'algorithm',\n",
       " 'interview',\n",
       " 'BeautifulMess',\n",
       " 'ai',\n",
       " 'references',\n",
       " 'streamlit',\n",
       " 'statistics',\n",
       " 'math',\n",
       " 'kaggle',\n",
       " 'dacon',\n",
       " 'database']"
      ]
     },
     "execution_count": 25,
     "metadata": {},
     "output_type": "execute_result"
    }
   ],
   "source": []
  },
  {
   "cell_type": "code",
   "execution_count": null,
   "metadata": {},
   "outputs": [],
   "source": [
    "_1년_커밋히스토리 = ''\n",
    "\n",
    "command = 'git log --pretty=format:\"%as\" --name-only --since=1year'\n",
    "\n",
    "for i in os.listdir('/home/sjt/space/github'):\n",
    "    log = subprocess.Popen(command, stdout=subprocess.PIPE, stderr=subprocess.PIPE, text=True, shell=True, cwd='/home/sjt/space/github/references')\n",
    "    log.wait()\n",
    "    "
   ]
  },
  {
   "cell_type": "code",
   "execution_count": 24,
   "metadata": {},
   "outputs": [
    {
     "name": "stdout",
     "output_type": "stream",
     "text": [
      "2024-08-30\n",
      "나의_과학기술/과학기술/생명과학/논문.md\n",
      "나의_과학기술/과학기술/수학_통계/statquest.md\n",
      "\n",
      "2024-08-28\n",
      "나의_과학기술/과학기술/프로그래밍/TTABAELEARN.md\n",
      "나의_과학기술/과학기술/프로그래밍/생활코딩.md\n",
      "나의_과학기술/과학기술/프로그래밍/오늘코드.md\n",
      "나의_과학기술/과학기술/프로그래밍/오늘코딩.md\n",
      "나의_과학기술/과학기술/프로그래밍/윤인성.md\n",
      "\n",
      "2024-08-28\n",
      "README.md\n",
      "나의_과학기술/과학기술/프로그래밍/파이썬웹프로그래밍_기초편.md\n",
      "나의_과학기술/과학기술/프로그래밍/파이썬웹프로그래밍_실전편.md\n",
      "\n",
      "2024-08-28\n",
      "기타/note.txt\n",
      "\n",
      "2024-08-27\n",
      "기타/music.ipynb\n",
      "기타/가족.ipynb\n",
      "나의_과학기술/과학기술/데이터분석/SQL_전문가_가이드.md\n",
      "\n"
     ]
    }
   ],
   "source": [
    "\n",
    "\n",
    "log = subprocess.Popen(command, stdout=subprocess.PIPE, stderr=subprocess.PIPE, text=True, shell=True, cwd='/home/sjt/space/github/references')\n",
    "log.wait()\n",
    "print(log.communicate()[0])"
   ]
  },
  {
   "cell_type": "code",
   "execution_count": 33,
   "metadata": {},
   "outputs": [
    {
     "data": {
      "text/plain": [
       "{'2024-08-30': ['나의_과학기술/과학기술/생명과학/논문.md', '나의_과학기술/과학기술/수학_통계/statquest.md'],\n",
       " '2024-08-28': ['나의_과학기술/과학기술/프로그래밍/TTABAELEARN.md',\n",
       "  '나의_과학기술/과학기술/프로그래밍/생활코딩.md',\n",
       "  '나의_과학기술/과학기술/프로그래밍/오늘코드.md',\n",
       "  '나의_과학기술/과학기술/프로그래밍/오늘코딩.md',\n",
       "  '나의_과학기술/과학기술/프로그래밍/윤인성.md',\n",
       "  ['README.md',\n",
       "   '나의_과학기술/과학기술/프로그래밍/파이썬웹프로그래밍_기초편.md',\n",
       "   '나의_과학기술/과학기술/프로그래밍/파이썬웹프로그래밍_실전편.md'],\n",
       "  ['기타/note.txt']],\n",
       " '2024-08-27': ['기타/music.ipynb',\n",
       "  '기타/가족.ipynb',\n",
       "  '나의_과학기술/과학기술/데이터분석/SQL_전문가_가이드.md',\n",
       "  '']}"
      ]
     },
     "execution_count": 33,
     "metadata": {},
     "output_type": "execute_result"
    }
   ],
   "source": [
    "dic_log = dict()\n",
    "\n",
    "for i in log.communicate()[0].split('\\n\\n'):\n",
    "    sp = i.split('\\n')\n",
    "    if sp[0] not in dic_log:\n",
    "        dic_log[sp[0]] = sp[1:]\n",
    "    else:\n",
    "        dic_log[sp[0]].append(sp[1:])\n",
    "\n",
    "dic_log"
   ]
  },
  {
   "cell_type": "code",
   "execution_count": null,
   "metadata": {},
   "outputs": [],
   "source": []
  }
 ],
 "metadata": {
  "kernelspec": {
   "display_name": "data",
   "language": "python",
   "name": "python3"
  },
  "language_info": {
   "codemirror_mode": {
    "name": "ipython",
    "version": 3
   },
   "file_extension": ".py",
   "mimetype": "text/x-python",
   "name": "python",
   "nbconvert_exporter": "python",
   "pygments_lexer": "ipython3",
   "version": "3.12.4"
  }
 },
 "nbformat": 4,
 "nbformat_minor": 2
}
