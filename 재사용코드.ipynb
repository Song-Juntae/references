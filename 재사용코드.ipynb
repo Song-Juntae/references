{
 "cells": [
  {
   "cell_type": "code",
   "execution_count": null,
   "metadata": {},
   "outputs": [],
   "source": [
    "def 이상치처리(df, col, value):\n",
    "    Q1 = df[col].quantile(0.25)\n",
    "    Q3 = df[col].quantile(0.75)\n",
    "    IQR = Q3 - Q1\n",
    "    rev_range = 3\n",
    "    if value < (Q1 - rev_range * IQR):\n",
    "        value = Q1 - rev_range * IQR\n",
    "    if value > (Q3 + rev_range * IQR):\n",
    "        value = Q3 + rev_range * IQR\n",
    "    return value"
   ]
  }
 ],
 "metadata": {
  "language_info": {
   "name": "python"
  }
 },
 "nbformat": 4,
 "nbformat_minor": 2
}
